{
  "nbformat": 4,
  "nbformat_minor": 0,
  "metadata": {
    "colab": {
      "provenance": [],
      "authorship_tag": "ABX9TyMvvrBkdtnH0VLeS8CDfw97",
      "include_colab_link": true
    },
    "kernelspec": {
      "name": "python3",
      "display_name": "Python 3"
    },
    "language_info": {
      "name": "python"
    }
  },
  "cells": [
    {
      "cell_type": "markdown",
      "metadata": {
        "id": "view-in-github",
        "colab_type": "text"
      },
      "source": [
        "<a href=\"https://colab.research.google.com/github/sreneee/DSA-58011/blob/main/Postfix.ipynb\" target=\"_parent\"><img src=\"https://colab.research.google.com/assets/colab-badge.svg\" alt=\"Open In Colab\"/></a>"
      ]
    },
    {
      "cell_type": "code",
      "execution_count": 10,
      "metadata": {
        "colab": {
          "base_uri": "https://localhost:8080/"
        },
        "id": "k7JTuc7M1Sl4",
        "outputId": "bd0c564e-446e-43b7-a329-802cb9644b05"
      },
      "outputs": [
        {
          "output_type": "stream",
          "name": "stdout",
          "text": [
            "Enter postfix expression: 723*-4**93/+\n",
            "Value:  3\n"
          ]
        }
      ],
      "source": [
        "class evaluate_postfix:\n",
        "    def __init__(self):\n",
        "        self.items=[]\n",
        "        self.size=-1\n",
        "    def isEmpty(self):\n",
        "        return self.items==[]\n",
        "    def push(self,item):\n",
        "        self.items.append(item)\n",
        "        self.size+=1\n",
        "    def pop(self):\n",
        "        if self.isEmpty():\n",
        "            return 0\n",
        "        else:\n",
        "            self.size-=1\n",
        "            return self.items.pop()\n",
        "    def seek(self):\n",
        "        if self.isEmpty():\n",
        "            return False\n",
        "        else:\n",
        "            return self.items[self.size]\n",
        "    def evalute(self,expr):\n",
        "        for i in expr:\n",
        "            if i in '0123456789':\n",
        "                self.push(i)\n",
        "            else:\n",
        "                op1=self.pop()\n",
        "                op2=self.pop()\n",
        "                result=self.cal(op2,op1,i)\n",
        "                self.push(result)\n",
        "        return self.pop()\n",
        "    def cal(self,op2,op1,i):\n",
        "        if i is '*':\n",
        "            return int(op2)*int(op1)\n",
        "        elif i is '/':\n",
        "            return int(op2)/int(op1)\n",
        "        elif i is '+':\n",
        "            return int(op2)+int(op1)\n",
        "        elif i is '-':\n",
        "            return int(op2)-int(op1)\n",
        "s=evaluate_postfix()\n",
        "expr=input('Enter postfix expression: ')\n",
        "value=s.evalute(expr)\n",
        "print('Value: ',value)\n"
      ]
    }
  ]
}