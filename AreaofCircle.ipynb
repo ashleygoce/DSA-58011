{
  "nbformat": 4,
  "nbformat_minor": 0,
  "metadata": {
    "colab": {
      "name": "AreaofCircle.ipynb",
      "provenance": [],
      "authorship_tag": "ABX9TyOg7tn+D/qbflTzN/Hx1Ijr",
      "include_colab_link": true
    },
    "kernelspec": {
      "name": "python3",
      "display_name": "Python 3"
    },
    "language_info": {
      "name": "python"
    }
  },
  "cells": [
    {
      "cell_type": "markdown",
      "metadata": {
        "id": "view-in-github",
        "colab_type": "text"
      },
      "source": [
        "<a href=\"https://colab.research.google.com/github/sreneee/DSA-58011/blob/main/AreaofCircle.ipynb\" target=\"_parent\"><img src=\"https://colab.research.google.com/assets/colab-badge.svg\" alt=\"Open In Colab\"/></a>"
      ]
    },
    {
      "cell_type": "code",
      "execution_count": null,
      "metadata": {
        "id": "y69_Y8vfMBq8"
      },
      "outputs": [],
      "source": [
        "class circle:\n",
        "  def __init__ (self, radius):\n",
        "    self.radius = radius\n",
        "  \n",
        "  def Area(self):\n",
        "    print(3.14* (self.radius * self.radius))\n",
        "\n",
        "c1 = circle(7)\n",
        "c1.Area()\n"
      ]
    }
  ]
}