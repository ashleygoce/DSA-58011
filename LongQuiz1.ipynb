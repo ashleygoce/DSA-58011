{
  "nbformat": 4,
  "nbformat_minor": 0,
  "metadata": {
    "colab": {
      "provenance": [],
      "authorship_tag": "ABX9TyPlpMqi4h0mJmlYkUNZaqC+",
      "include_colab_link": true
    },
    "kernelspec": {
      "name": "python3",
      "display_name": "Python 3"
    },
    "language_info": {
      "name": "python"
    }
  },
  "cells": [
    {
      "cell_type": "markdown",
      "metadata": {
        "id": "view-in-github",
        "colab_type": "text"
      },
      "source": [
        "<a href=\"https://colab.research.google.com/github/sreneee/DSA-58011/blob/main/LongQuiz1.ipynb\" target=\"_parent\"><img src=\"https://colab.research.google.com/assets/colab-badge.svg\" alt=\"Open In Colab\"/></a>"
      ]
    },
    {
      "cell_type": "code",
      "execution_count": null,
      "metadata": {
        "id": "-Gl2KjF_iTtx"
      },
      "outputs": [],
      "source": [
        "name = [\" \"]\n",
        "name.append(input())\n",
        "name.append(input())\n",
        "name.append(input())\n",
        "name.append(input())\n",
        "name.reverse()\n",
        "print(name)"
      ]
    }
  ]
}