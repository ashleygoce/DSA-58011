{
  "nbformat": 4,
  "nbformat_minor": 0,
  "metadata": {
    "colab": {
      "provenance": [],
      "authorship_tag": "ABX9TyN4GNtGBwYn71W/NbVM5CC5",
      "include_colab_link": true
    },
    "kernelspec": {
      "name": "python3",
      "display_name": "Python 3"
    },
    "language_info": {
      "name": "python"
    }
  },
  "cells": [
    {
      "cell_type": "markdown",
      "metadata": {
        "id": "view-in-github",
        "colab_type": "text"
      },
      "source": [
        "<a href=\"https://colab.research.google.com/github/sreneee/DSA-58011/blob/main/PrelimExam.ipynb\" target=\"_parent\"><img src=\"https://colab.research.google.com/assets/colab-badge.svg\" alt=\"Open In Colab\"/></a>"
      ]
    },
    {
      "cell_type": "code",
      "execution_count": 22,
      "metadata": {
        "colab": {
          "base_uri": "https://localhost:8080/"
        },
        "id": "uAJMBYradFij",
        "outputId": "b139ec3c-421b-4871-a03f-b604d06c0ce1"
      },
      "outputs": [
        {
          "output_type": "stream",
          "name": "stdout",
          "text": [
            "[[1, 2, 3, 4, 5, 6, 7, 8, 9, 10]]\n"
          ]
        }
      ],
      "source": [
        "num = []\n",
        "num.append([1,2,3,4,5,6,7,8,9,10])\n",
        "print(num)"
      ]
    },
    {
      "cell_type": "code",
      "source": [
        "num = []\n",
        "num.append(3)\n",
        "num.append(4)\n",
        "num.append(5)\n",
        "num.append(6)\n",
        "num.append(7)\n",
        "num.append(8)\n",
        "num.append(9)\n",
        "num.append(10)\n",
        "print(num)"
      ],
      "metadata": {
        "id": "8iR0rpfTgh_f"
      },
      "execution_count": null,
      "outputs": []
    }
  ]
}