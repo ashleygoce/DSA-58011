{
  "nbformat": 4,
  "nbformat_minor": 0,
  "metadata": {
    "colab": {
      "provenance": [],
      "authorship_tag": "ABX9TyMezJUSuJj3CJ3QD6ripVBX",
      "include_colab_link": true
    },
    "kernelspec": {
      "name": "python3",
      "display_name": "Python 3"
    },
    "language_info": {
      "name": "python"
    }
  },
  "cells": [
    {
      "cell_type": "markdown",
      "metadata": {
        "id": "view-in-github",
        "colab_type": "text"
      },
      "source": [
        "<a href=\"https://colab.research.google.com/github/sreneee/DSA-58011/blob/main/Activity2.ipynb\" target=\"_parent\"><img src=\"https://colab.research.google.com/assets/colab-badge.svg\" alt=\"Open In Colab\"/></a>"
      ]
    },
    {
      "cell_type": "code",
      "source": [
        "class Node:\n",
        "   def __init__(self, data=None):\n",
        "      self.data = data\n",
        "      self.next = None\n",
        "\n",
        "class LinkedList:\n",
        "   def __init__(self):\n",
        "      self.head = None\n",
        "\n",
        "   def listprint(self):\n",
        "      printval = self.head\n",
        "      while printval is not None:\n",
        "         print (printval.data)\n",
        "         printval = printval.next\n",
        "\n",
        "\n",
        "list = LinkedList()\n",
        "list.head = Node(\"A\")\n",
        "v2 = Node(\"E\")\n",
        "v3 = Node(\"I\")\n",
        "v4 = Node(\"O\")\n",
        "list.tail= Node(\"U\")\n",
        "list.tail=v5\n",
        "\n",
        "list.head.next = v2\n",
        "v2.next = v3\n",
        "v3.next = v4\n",
        "v4.next = v5\n",
        "\n",
        "list.listprint()\n"
      ],
      "metadata": {
        "colab": {
          "base_uri": "https://localhost:8080/"
        },
        "id": "cIpYbrBtntjX",
        "outputId": "87124df1-7dcc-49da-975e-40495ca89d97"
      },
      "execution_count": 67,
      "outputs": [
        {
          "output_type": "stream",
          "name": "stdout",
          "text": [
            "A\n",
            "E\n",
            "I\n",
            "O\n",
            "U\n"
          ]
        }
      ]
    }
  ]
}