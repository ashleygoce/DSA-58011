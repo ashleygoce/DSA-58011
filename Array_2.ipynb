{
  "nbformat": 4,
  "nbformat_minor": 0,
  "metadata": {
    "colab": {
      "provenance": [],
      "authorship_tag": "ABX9TyOXEnXNXkE42AxrxVUCIMo8",
      "include_colab_link": true
    },
    "kernelspec": {
      "name": "python3",
      "display_name": "Python 3"
    },
    "language_info": {
      "name": "python"
    }
  },
  "cells": [
    {
      "cell_type": "markdown",
      "metadata": {
        "id": "view-in-github",
        "colab_type": "text"
      },
      "source": [
        "<a href=\"https://colab.research.google.com/github/sreneee/DSA-58011/blob/main/Array_2.ipynb\" target=\"_parent\"><img src=\"https://colab.research.google.com/assets/colab-badge.svg\" alt=\"Open In Colab\"/></a>"
      ]
    },
    {
      "cell_type": "code",
      "execution_count": 4,
      "metadata": {
        "colab": {
          "base_uri": "https://localhost:8080/"
        },
        "id": "uWtCazi99of7",
        "outputId": "77209d0c-8b41-4c0e-e14c-193122ed4e8f"
      },
      "outputs": [
        {
          "output_type": "stream",
          "name": "stdout",
          "text": [
            "i\n",
            "f\n"
          ]
        }
      ],
      "source": [
        "import array\n",
        "array.typecodes #get all typecodes\n",
        "\n",
        "a=array.array('i',[1,2,3,4,5,6,7,8,9,10]) #Initializing array a\n",
        "b=array.array('f',[1.5,2.5,3.5,4.5,5.5,6.5,7.5,8.5,9.5,10.5]) # initialized the elements of b\n",
        "\n",
        "print(a.typecode)\n",
        "print(b.typecode)"
      ]
    },
    {
      "cell_type": "markdown",
      "source": [
        "Create array elements of any array name to a float/deciamal numbers"
      ],
      "metadata": {
        "id": "i0aCfyqkCNC7"
      }
    },
    {
      "cell_type": "code",
      "source": [
        "a = array.array('f',[1,2,3,4,5,6,7,8,9,10])\n",
        "print(a)"
      ],
      "metadata": {
        "colab": {
          "base_uri": "https://localhost:8080/"
        },
        "id": "2SgeF4D8BVmS",
        "outputId": "8a5f7c48-c9ea-4d1f-ce61-575ad5dc5ec3"
      },
      "execution_count": 12,
      "outputs": [
        {
          "output_type": "stream",
          "name": "stdout",
          "text": [
            "array('f', [1.0, 2.0, 3.0, 4.0, 5.0, 6.0, 7.0, 8.0, 9.0, 10.0])\n"
          ]
        }
      ]
    },
    {
      "cell_type": "markdown",
      "source": [
        "Insert an element: 11 to the first index of the array a"
      ],
      "metadata": {
        "id": "-J2eGgGTC4c7"
      }
    },
    {
      "cell_type": "code",
      "source": [
        "a.insert(0,11)\n",
        "print(a)\n",
        "b.insert(-1,11)\n",
        "print(b)\n",
        "\n",
        "b[-1]=12\n",
        "print(b)"
      ],
      "metadata": {
        "colab": {
          "base_uri": "https://localhost:8080/"
        },
        "id": "YIaCMxL2C8fl",
        "outputId": "dc344d03-9f21-4e52-e2a3-cbedc19a7792"
      },
      "execution_count": 13,
      "outputs": [
        {
          "output_type": "stream",
          "name": "stdout",
          "text": [
            "array('f', [11.0, 1.0, 2.0, 3.0, 4.0, 5.0, 6.0, 7.0, 8.0, 9.0, 10.0])\n",
            "array('f', [1.5, 2.5, 3.5, 4.5, 5.5, 6.5, 7.5, 8.5, 9.5, 11.0, 11.0, 10.5])\n",
            "array('f', [1.5, 2.5, 3.5, 4.5, 5.5, 6.5, 7.5, 8.5, 9.5, 11.0, 11.0, 12.0])\n"
          ]
        }
      ]
    },
    {
      "cell_type": "code",
      "source": [
        "a = array.array('i',[1,2,3,4,5,6,7,8,9,10])\n",
        "print(a)\n",
        "a.insert(10,-1) #out of range\n",
        "print(a)"
      ],
      "metadata": {
        "colab": {
          "base_uri": "https://localhost:8080/"
        },
        "id": "2pVus1KeHa84",
        "outputId": "823e1720-d08a-422e-8657-88d4eb572432"
      },
      "execution_count": 15,
      "outputs": [
        {
          "output_type": "stream",
          "name": "stdout",
          "text": [
            "array('i', [1, 2, 3, 4, 5, 6, 7, 8, 9, 10])\n",
            "array('i', [1, 2, 3, 4, 5, 6, 7, 8, 9, 10, -1])\n"
          ]
        }
      ]
    },
    {
      "cell_type": "code",
      "source": [
        "#Initialize the node class\n",
        "class Node:\n",
        "  def __init__(self,data): \n",
        "    self.data = data   #initialize the object node\n",
        "    self.next = None    #initialize as null\n",
        "\n",
        "class LinkedList:\n",
        "  def __init__(self):\n",
        "    self.head = None  #initialize the head of the node\n",
        " \n",
        "#empty list\n",
        "\n",
        "llist = LinkedList()\n",
        "llist.head = Node(1)\n",
        "second = Node(2)\n",
        "third = Node(3)\n",
        "\n",
        "llist.head.next = second\n",
        "second.next = third\n"
      ],
      "metadata": {
        "id": "tLW0YzggTBrK"
      },
      "execution_count": 17,
      "outputs": []
    },
    {
      "cell_type": "code",
      "source": [
        "class Node:\n",
        "  def __init__(self,data): \n",
        "    self.data = data   #initialize the object node\n",
        "    self.next = None    #initialize as null\n",
        "\n",
        "class LinkedList:\n",
        "  def __init__(self):\n",
        "    self.head = None  #initialize the head of the node\n",
        "  def printList(self):\n",
        "    temp = self.head\n",
        "    while(temp):\n",
        "      print(temp.data)\n",
        "      temp = temp.next\n",
        " \n",
        "#empty list\n",
        "if __name__=='_main_':\n",
        "  llist = LinkedList()\n",
        "  llist.head = Node(1)\n",
        "  second = Node(2)\n",
        "  third = Node(3)\n",
        "  \n",
        "llist.head.next = second\n",
        "second.next = third\n"
      ],
      "metadata": {
        "id": "pdSuflMOTuY6"
      },
      "execution_count": 19,
      "outputs": []
    }
  ]
}