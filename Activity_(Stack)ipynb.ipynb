{
  "nbformat": 4,
  "nbformat_minor": 0,
  "metadata": {
    "colab": {
      "provenance": [],
      "authorship_tag": "ABX9TyOxTASv7b4DbGA/p6vHFM++",
      "include_colab_link": true
    },
    "kernelspec": {
      "name": "python3",
      "display_name": "Python 3"
    },
    "language_info": {
      "name": "python"
    }
  },
  "cells": [
    {
      "cell_type": "markdown",
      "metadata": {
        "id": "view-in-github",
        "colab_type": "text"
      },
      "source": [
        "<a href=\"https://colab.research.google.com/github/sreneee/DSA-58011/blob/main/Activity_(Stack)ipynb.ipynb\" target=\"_parent\"><img src=\"https://colab.research.google.com/assets/colab-badge.svg\" alt=\"Open In Colab\"/></a>"
      ]
    },
    {
      "cell_type": "code",
      "execution_count": 27,
      "metadata": {
        "colab": {
          "base_uri": "https://localhost:8080/"
        },
        "id": "_h_j0eW5tSIi",
        "outputId": "44913377-a349-4c5a-c53a-76a574ca723d"
      },
      "outputs": [
        {
          "output_type": "stream",
          "name": "stdout",
          "text": [
            "Pushed Element: 1\n",
            "Pushed Element: 2\n",
            "Pushed Element: 3\n",
            "Pushed Element: 4\n",
            "Pushed Element: 5\n",
            "\n",
            "The elements in the stack are:['1', '2', '3', '4', '5']\n",
            "The length of the stack is  5\n",
            "\n",
            "The elements in the stack after popping the 3 elements on the top are now ['1', '2']\n",
            "The length of the stack is now  2\n"
          ]
        }
      ],
      "source": [
        "# Stack implementation in python\n",
        "# Creating a stack\n",
        "\n",
        "def create_stack():\n",
        "\n",
        "    stack = []\n",
        "\n",
        "    return stack\n",
        "\n",
        "\n",
        "# Creating an empty stack\n",
        "\n",
        "def is_empty(stack):\n",
        "\n",
        "    return len(stack) == 0\n",
        "\n",
        "\n",
        "# Adding items into the stack\n",
        "\n",
        "def push(stack, item):\n",
        "\n",
        "    stack.append(item)\n",
        "\n",
        "    print(\"Pushed Element: \" + item)\n",
        "\n",
        "\n",
        "# Removing an element from the stack\n",
        "\n",
        "def pop(stack):\n",
        "\n",
        "    if (is_empty(stack)):\n",
        "\n",
        "        return \"The stack is empty\"\n",
        "\n",
        "    return stack.pop()\n",
        "\n",
        "\n",
        "stack = create_stack()\n",
        "\n",
        "push(stack, str(1))\n",
        "\n",
        "push(stack, str(2))\n",
        "\n",
        "push(stack, str(3))\n",
        "\n",
        "push(stack, str(4))\n",
        "\n",
        "push(stack, str(5))\n",
        "\n",
        "print(\"\\nThe elements in the stack are:\"+ str(stack))\n",
        "print(\"The length of the stack is \",len(stack))\n",
        "\n",
        "\n",
        "(stack.pop())\n",
        "(stack.pop())\n",
        "(stack.pop())\n",
        "print(\"\\nThe elements in the stack after popping the 3 elements on the top are now \"+ str(stack))\n",
        "print(\"The length of the stack is now \",len(stack))\n"
      ]
    },
    {
      "cell_type": "markdown",
      "source": [],
      "metadata": {
        "id": "6TS0tP8tu4y6"
      }
    }
  ]
}