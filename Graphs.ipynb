{
  "nbformat": 4,
  "nbformat_minor": 0,
  "metadata": {
    "colab": {
      "provenance": [],
      "collapsed_sections": [],
      "authorship_tag": "ABX9TyPJs44TzWS0LLt5umFWbI4A",
      "include_colab_link": true
    },
    "kernelspec": {
      "name": "python3",
      "display_name": "Python 3"
    },
    "language_info": {
      "name": "python"
    }
  },
  "cells": [
    {
      "cell_type": "markdown",
      "metadata": {
        "id": "view-in-github",
        "colab_type": "text"
      },
      "source": [
        "<a href=\"https://colab.research.google.com/github/sreneee/DSA-58011/blob/main/Graphs.ipynb\" target=\"_parent\"><img src=\"https://colab.research.google.com/assets/colab-badge.svg\" alt=\"Open In Colab\"/></a>"
      ]
    },
    {
      "cell_type": "code",
      "execution_count": 1,
      "metadata": {
        "colab": {
          "base_uri": "https://localhost:8080/"
        },
        "id": "k87DB1EYY5Lj",
        "outputId": "cbb673fc-f827-42f9-fa23-c84030c75f66"
      },
      "outputs": [
        {
          "output_type": "stream",
          "name": "stdout",
          "text": [
            "{'a': ['b', 'c'], 'b': ['a', 'd'], 'c': ['a', 'd'], 'd': ['b', 'c', 'e'], 'e': ['e']}\n"
          ]
        }
      ],
      "source": [
        "#Data elements using dictionaries to implement graph\n",
        "graph = {\n",
        "    'a': ['b', 'c'],\n",
        "    'b': ['a', 'd'],\n",
        "    'c': ['a', 'd'],\n",
        "    'd': [ 'b', 'c', 'e'],\n",
        "    'e': ['e']\n",
        "}\n",
        "print(graph)"
      ]
    },
    {
      "cell_type": "code",
      "source": [
        "#Data elements using dictionaries to implement graph\n",
        "graph20 = {\n",
        "    '1': ['4'],\n",
        "    '2': ['1', '3', '4'],\n",
        "    '3': ['2', '4'],\n",
        "    '4': [],\n",
        "}\n",
        "print(graph20)"
      ],
      "metadata": {
        "colab": {
          "base_uri": "https://localhost:8080/"
        },
        "id": "zjCSVESJeWB-",
        "outputId": "1e568a6b-2281-4d28-cf62-be46bd6eb779"
      },
      "execution_count": 2,
      "outputs": [
        {
          "output_type": "stream",
          "name": "stdout",
          "text": [
            "{'1': ['4'], '2': ['1', '3', '4'], '3': ['2', '4'], '4': []}\n"
          ]
        }
      ]
    }
  ]
}